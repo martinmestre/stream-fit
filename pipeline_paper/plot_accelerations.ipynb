{
 "cells": [
  {
   "cell_type": "code",
   "execution_count": 1,
   "id": "4a68018e",
   "metadata": {
    "lines_to_next_cell": 0
   },
   "outputs": [
    {
     "name": "stderr",
     "output_type": "stream",
     "text": [
      "\u001b[32m\u001b[1m  Activating\u001b[22m\u001b[39m project at `/mnt/md1/mmestre/work/2020/halostream/sources/stream_fit/pipeline_paper`\n"
     ]
    },
    {
     "data": {
      "text/plain": [
       "PyObject <module 'potential_classes' from '/mnt/md1/mmestre/work/2020/halostream/sources/stream_fit/pipeline_paper/potential_classes.py'>"
      ]
     },
     "metadata": {},
     "output_type": "display_data"
    }
   ],
   "source": [
    "\"\"\"Plot accelerations.\"\"\"\n",
    "\n",
    "using Pkg\n",
    "Pkg.activate(\".\")\n",
    "using AlgebraOfGraphics, CairoMakie\n",
    "using PyCall\n",
    "using CSV\n",
    "using DataFrames\n",
    "using Showoff\n",
    "using CubicSplines\n",
    "using DelimitedFiles\n",
    "include(\"bugfixMakie.jl\")# %%\n",
    "\n",
    "pushfirst!(PyVector(pyimport(\"sys\").\"path\"), \"\")\n",
    "importLib = pyimport(\"importlib\")\n",
    "stream = pyimport(\"stream\")\n",
    "potentials = pyimport(\"potential_classes\")\n",
    "importLib.reload(stream)\n",
    "importLib.reload(potentials)"
   ]
  },
  {
   "cell_type": "code",
   "execution_count": 2,
   "id": "abdc10c8",
   "metadata": {
    "lines_to_next_cell": 0
   },
   "outputs": [
    {
     "data": {
      "text/plain": [
       "\"observable_orbit_NFW-MW.txt\""
      ]
     },
     "metadata": {},
     "output_type": "display_data"
    }
   ],
   "source": [
    "\n",
    "# Parameters and initial conditions.\n",
    "\n",
    "ϵ = 56\n",
    "param_file = \"sol_optim_pot_m$(Int(ϵ)).txt\"\n",
    "θ, Δθ, β = vec(readdlm(param_file))\n",
    "\n",
    "W = θ+Δθ\n",
    "param = [ϵ, θ, W, β]\n",
    "\n",
    "\n",
    "ic_file = \"param_fit_orbit_from_IbataPolysGaiaDR2-data_fixedpot.txt\"\n",
    "ic = vec(readdlm(ic_file))\n",
    "r☼ = 8.122\n",
    "\n",
    "orbit_nfw_file = \"observable_orbit_NFW-MW.txt\""
   ]
  },
  {
   "cell_type": "code",
   "execution_count": 5,
   "id": "22f186ce",
   "metadata": {
    "lines_to_next_cell": 0
   },
   "outputs": [],
   "source": [
    "\n",
    "# MEPP solution\n",
    "ϕ₁ₒ = stream.Iba_phi1_np\n",
    "pot_list = stream.pot_model(ϵ, θ, W, β)\n",
    "temp = stream.orbit_model(ic..., pot_list, r☼)\n",
    "# Cubic spline for solution:\n",
    "boolϕ₁ = (temp[1].>-95 .&& temp[1].<15)\n",
    "fϕ₂, fd☼, fμ_ra, fμ_dec, fv☼ = [CubicSpline(temp[1][boolϕ₁], temp[i][boolϕ₁]) for i=2:6]\n",
    "ϕ₂ = fϕ₂(ϕ₁ₒ)\n",
    "d☼ = fd☼(ϕ₁ₒ)\n",
    "μ_ra = fμ_ra(ϕ₁ₒ)\n",
    "μ_dec = fμ_dec(ϕ₁ₒ)\n",
    "v☼ = fv☼(ϕ₁ₒ)\n",
    "\n",
    "# Malhan (MWPotential2014) solution.\n",
    "temp = readdlm(orbit_nfw_file)\n",
    "boolϕ₁ = (temp[1,:].>-95 .&& temp[1,:].<15)\n",
    "fϕ₂, fd☼, fμ_ra, fμ_dec, fv☼ = [CubicSpline(temp[1,:][boolϕ₁], temp[i,:][boolϕ₁]) for i=2:6]\n",
    "ϕ₂ₘ = fϕ₂(ϕ₁ₒ)\n",
    "d☼ₘ = fd☼(ϕ₁ₒ)\n",
    "μ_raₘ = fμ_ra(ϕ₁ₒ)\n",
    "μ_decₘ = fμ_dec(ϕ₁ₒ)\n",
    "v☼ₘ = fv☼(ϕ₁ₒ);"
   ]
  },
  {
   "cell_type": "code",
   "execution_count": null,
   "id": "e31d6a23",
   "metadata": {
    "lines_to_next_cell": 2
   },
   "outputs": [],
   "source": []
  }
 ],
 "metadata": {
  "jupytext": {
   "cell_metadata_filter": "-all",
   "main_language": "julia",
   "notebook_metadata_filter": "-all"
  },
  "kernelspec": {
   "display_name": "Julia 1.9.3",
   "language": "julia",
   "name": "julia-1.9"
  },
  "language_info": {
   "file_extension": ".jl",
   "mimetype": "application/julia",
   "name": "julia",
   "version": "1.9.3"
  }
 },
 "nbformat": 4,
 "nbformat_minor": 5
}
